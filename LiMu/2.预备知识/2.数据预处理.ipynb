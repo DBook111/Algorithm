{
 "cells": [
  {
   "cell_type": "markdown",
   "metadata": {},
   "source": [
    "数据预处理\n"
   ]
  },
  {
   "cell_type": "markdown",
   "metadata": {},
   "source": [
    "我们经常从预处理原始数据开始。\n",
    "在python常用的数据分析工具中，我们通常使用pandas包，其可以与张量兼容\n",
    "本节主要介绍使用pandas包预处理原始数据，将原始数据转换为张量的格式"
   ]
  },
  {
   "cell_type": "markdown",
   "metadata": {},
   "source": [
    "读取数据集"
   ]
  },
  {
   "cell_type": "code",
   "execution_count": 6,
   "metadata": {},
   "outputs": [],
   "source": [
    "# 我们首先人工创建一个数据集，并存储在CSV文件../data/house_tiny.csv 中。\n",
    "# 下面战士创建文件夹以及向其中写入数据的代码\n",
    "\n",
    "import os\n",
    "\n",
    "os.makedirs(os.path.join('..','data') , exist_ok=True)\n",
    "data_file = os.path.join('..','data','house_tiny.csv')\n",
    "with open(data_file,'w') as f:\n",
    "    f.write('NumRooms,Alley,Price\\n')  # 列名\n",
    "    f.write('NA,Pave,127500\\n') # 以下每行表示一个数据样本\n",
    "    f.write('2,NA,182777\\n') \n",
    "    f.write('4,NA,12983500\\n') \n",
    "    f.write('NA,NA,1488477500\\n') "
   ]
  },
  {
   "cell_type": "code",
   "execution_count": 7,
   "metadata": {},
   "outputs": [
    {
     "name": "stdout",
     "output_type": "stream",
     "text": [
      "   NumRooms Alley       Price\n",
      "0       NaN  Pave      127500\n",
      "1       2.0   NaN      182777\n",
      "2       4.0   NaN    12983500\n",
      "3       NaN   NaN  1488477500\n"
     ]
    }
   ],
   "source": [
    "\n",
    "# 从创建的csv文件中加载原始的数据集，我们导入pandas包，并调用read_csv函数。改数据集有4行3列\n",
    "import pandas as pd\n",
    "\n",
    "data = pd.read_csv(data_file)\n",
    "print(data)"
   ]
  },
  {
   "cell_type": "markdown",
   "metadata": {},
   "source": [
    "处理缺失的数据"
   ]
  },
  {
   "cell_type": "code",
   "execution_count": 8,
   "metadata": {},
   "outputs": [
    {
     "name": "stdout",
     "output_type": "stream",
     "text": [
      "   NumRooms Alley\n",
      "0       3.0  Pave\n",
      "1       2.0   NaN\n",
      "2       4.0   NaN\n",
      "3       3.0   NaN\n"
     ]
    }
   ],
   "source": [
    "inputs , outputs = data.iloc[: , 0:2 ] , data.iloc[:,2]\n",
    "inputs = inputs.fillna(inputs.mean())\n",
    "print(inputs)"
   ]
  },
  {
   "cell_type": "code",
   "execution_count": 9,
   "metadata": {},
   "outputs": [
    {
     "name": "stdout",
     "output_type": "stream",
     "text": [
      "   NumRooms  Alley_Pave  Alley_nan\n",
      "0       3.0           1          0\n",
      "1       2.0           0          1\n",
      "2       4.0           0          1\n",
      "3       3.0           0          1\n"
     ]
    }
   ],
   "source": [
    "# 对于inputs中的类别值或离散值\n",
    "inputs = pd.get_dummies(inputs,dummy_na=True)\n",
    "print(inputs)"
   ]
  },
  {
   "cell_type": "markdown",
   "metadata": {},
   "source": [
    "转换为张量的格式"
   ]
  },
  {
   "cell_type": "code",
   "execution_count": 10,
   "metadata": {},
   "outputs": [
    {
     "data": {
      "text/plain": [
       "(tensor([[3., 1., 0.],\n",
       "         [2., 0., 1.],\n",
       "         [4., 0., 1.],\n",
       "         [3., 0., 1.]], dtype=torch.float64),\n",
       " tensor([    127500,     182777,   12983500, 1488477500]))"
      ]
     },
     "execution_count": 10,
     "metadata": {},
     "output_type": "execute_result"
    }
   ],
   "source": [
    "import torch\n",
    "\n",
    "X , y = torch.tensor(inputs.values) , torch.tensor(outputs.values)\n",
    "X , y "
   ]
  },
  {
   "cell_type": "markdown",
   "metadata": {},
   "source": [
    "小结："
   ]
  },
  {
   "cell_type": "markdown",
   "metadata": {},
   "source": [
    "pandas可以与张量兼容。用pandas处理缺失数据时，我们可以根据情况选择用插值法和删除法"
   ]
  }
 ],
 "metadata": {
  "kernelspec": {
   "display_name": "Python 3.9.7 ('base')",
   "language": "python",
   "name": "python3"
  },
  "language_info": {
   "codemirror_mode": {
    "name": "ipython",
    "version": 3
   },
   "file_extension": ".py",
   "mimetype": "text/x-python",
   "name": "python",
   "nbconvert_exporter": "python",
   "pygments_lexer": "ipython3",
   "version": "3.9.7"
  },
  "orig_nbformat": 4,
  "vscode": {
   "interpreter": {
    "hash": "1af40cebc48dd0d3cdfb745ad0962e83ec5c84ce87047fcec723101c68af23cb"
   }
  }
 },
 "nbformat": 4,
 "nbformat_minor": 2
}
