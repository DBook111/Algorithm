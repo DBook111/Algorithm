{
 "cells": [
  {
   "attachments": {},
   "cell_type": "markdown",
   "metadata": {},
   "source": [
    "微积分：起源于逼近法"
   ]
  },
  {
   "attachments": {},
   "cell_type": "markdown",
   "metadata": {},
   "source": [
    "导数与微分"
   ]
  },
  {
   "cell_type": "code",
   "execution_count": 11,
   "metadata": {},
   "outputs": [],
   "source": [
    "# %matplotlib inline的功能是可以内嵌绘图，可以省略掉plt.show()这一步\n",
    "%matplotlib inline\n",
    "import numpy as np\n",
    "from matplotlib_inline import backend_inline\n",
    "from d2l import torch as d2l\n",
    "\n",
    "\n",
    "def f(x):\n",
    "    return 3*x**2 - 4*x\n"
   ]
  },
  {
   "cell_type": "code",
   "execution_count": 12,
   "metadata": {},
   "outputs": [],
   "source": [
    "def numerical_lim(f,x,h):\n",
    "    return (f(x+h) - f(x))/h"
   ]
  },
  {
   "cell_type": "code",
   "execution_count": 13,
   "metadata": {},
   "outputs": [],
   "source": [
    "# 显示绘图\n",
    "def use_svg_display(): #@save\n",
    "    backend_inline.set_matplotlib_formats('svg')"
   ]
  },
  {
   "cell_type": "code",
   "execution_count": 14,
   "metadata": {},
   "outputs": [],
   "source": [
    "# 设置图标的大小\n",
    "def set_figsize(figsize=(3.5,2.5)): #@save\n",
    "    use_svg_display()\n",
    "    d2l.plt.rcParams['figure.figsize'] = figsize"
   ]
  },
  {
   "cell_type": "code",
   "execution_count": 15,
   "metadata": {},
   "outputs": [],
   "source": [
    "# 设置matplotlib生成图表的轴的属性\n",
    "def set_axis(axis , xlabel , ylabel , xlim , ylim , xscale , yscale , legend):\n",
    "    axis.set_xlabel(xlabel)\n",
    "    axis.set_ylabel(xlabel)\n",
    "    axis.set_xlim(xlim)\n",
    "    axis.set_ylim(ylim)\n",
    "    axis.set_xscale(xscale)\n",
    "    axis.set_yscale(yscale)\n",
    "    if legend:\n",
    "        axis.legend(legend)\n",
    "    axis.grid()"
   ]
  },
  {
   "cell_type": "code",
   "execution_count": 16,
   "metadata": {},
   "outputs": [
    {
     "ename": "IndentationError",
     "evalue": "expected an indented block (1402287995.py, line 17)",
     "output_type": "error",
     "traceback": [
      "\u001b[0;36m  File \u001b[0;32m\"/tmp/ipykernel_4039669/1402287995.py\"\u001b[0;36m, line \u001b[0;32m17\u001b[0m\n\u001b[0;31m    X = [X]\u001b[0m\n\u001b[0m    ^\u001b[0m\n\u001b[0;31mIndentationError\u001b[0m\u001b[0;31m:\u001b[0m expected an indented block\n"
     ]
    }
   ],
   "source": [
    "# 通过这三个用于图形配置的参数，定义一个plot函数来绘制多条曲线\n",
    "# 因为我们需要可视化很多曲线\n",
    "#@save\n",
    "def plot(X,Y=None , xlabel=None , ylabel=None , legend=None , xlim=None , ylim=None , xscale='linear' , yscale='linear' ,\n",
    "            fmts=('-' , 'm--' , 'g-.' , 'r:') , figsize=(3.5 , 2.5) , axis=None):\n",
    "            if legend is None:\n",
    "                legend = []\n",
    "            \n",
    "            set_figsize(figsize)\n",
    "            axis = axis if axis else d2l.plt.gca()\n",
    "\n",
    "            # 如果x有一个轴，输出True\n",
    "            def has_one_axis(X):\n",
    "                return (hasattr(X,\"ndim\") and X.ndim == 1 or isinstance(X , list))\n",
    "            \n",
    "            if has_one_axis(X):\n",
    "            X = [X]\n",
    "            if Y is None:\n",
    "                X, Y = [[]] * len(X), X\n",
    "            elif has_one_axis(Y):\n",
    "                Y = [Y]\n",
    "            if len(X) != len(Y):\n",
    "                X = X * len(Y)\n",
    "            axis.cla()\n",
    "            for x, y, fmt in zip(X, Y, fmts):\n",
    "                if len(x):\n",
    "                    axis.plot(x, y, fmt)\n",
    "                else:\n",
    "                    axis.plot(y, fmt)\n",
    "            set_axis(axis, xlabel, ylabel, xlim, ylim, xscale, yscale, legend)\n"
   ]
  },
  {
   "cell_type": "code",
   "execution_count": null,
   "metadata": {},
   "outputs": [],
   "source": []
  }
 ],
 "metadata": {
  "kernelspec": {
   "display_name": "Python 3.9.7 ('base')",
   "language": "python",
   "name": "python3"
  },
  "language_info": {
   "codemirror_mode": {
    "name": "ipython",
    "version": 3
   },
   "file_extension": ".py",
   "mimetype": "text/x-python",
   "name": "python",
   "nbconvert_exporter": "python",
   "pygments_lexer": "ipython3",
   "version": "3.9.7"
  },
  "orig_nbformat": 4,
  "vscode": {
   "interpreter": {
    "hash": "1af40cebc48dd0d3cdfb745ad0962e83ec5c84ce87047fcec723101c68af23cb"
   }
  }
 },
 "nbformat": 4,
 "nbformat_minor": 2
}
